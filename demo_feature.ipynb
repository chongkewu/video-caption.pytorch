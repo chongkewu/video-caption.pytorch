{
 "cells": [
  {
   "cell_type": "code",
   "execution_count": 1,
   "metadata": {
    "collapsed": true
   },
   "outputs": [],
   "source": [
    "import shutil\n",
    "import subprocess\n",
    "import glob\n",
    "from tqdm import tqdm\n",
    "import numpy as np\n",
    "import os\n",
    "import argparse\n"
   ]
  },
  {
   "cell_type": "code",
   "execution_count": 2,
   "metadata": {},
   "outputs": [
    {
     "data": {
      "text/plain": [
       "'/home/chongke/anaconda3/envs/my_env/bin/python'"
      ]
     },
     "execution_count": 2,
     "metadata": {},
     "output_type": "execute_result"
    }
   ],
   "source": [
    "import sys\n",
    "sys.executable"
   ]
  },
  {
   "cell_type": "code",
   "execution_count": 3,
   "metadata": {
    "collapsed": true
   },
   "outputs": [],
   "source": [
    "\n",
    "import torch\n",
    "from torch import nn\n",
    "import torch.nn.functional as F\n",
    "import pretrainedmodels\n",
    "from pretrainedmodels import utils\n",
    "\n",
    "C, H, W = 3, 224, 224"
   ]
  },
  {
   "cell_type": "code",
   "execution_count": 4,
   "metadata": {
    "collapsed": true
   },
   "outputs": [],
   "source": [
    "args = {'gpu': '0', 'output_dir': 'data/feats/demo', 'n_frame_steps': 40, 'video_path':'data/train-video', 'model': 'resnet152'}"
   ]
  },
  {
   "cell_type": "code",
   "execution_count": 5,
   "metadata": {},
   "outputs": [
    {
     "data": {
      "text/plain": [
       "{'gpu': '0',\n",
       " 'output_dir': 'data/feats/demo',\n",
       " 'n_frame_steps': 40,\n",
       " 'video_path': 'data/train-video',\n",
       " 'model': 'resnet152'}"
      ]
     },
     "execution_count": 5,
     "metadata": {},
     "output_type": "execute_result"
    }
   ],
   "source": [
    "args"
   ]
  },
  {
   "cell_type": "code",
   "execution_count": 6,
   "metadata": {
    "collapsed": true
   },
   "outputs": [],
   "source": [
    "os.environ['CUDA_VISIBLE_DEVICES'] = args['gpu']"
   ]
  },
  {
   "cell_type": "code",
   "execution_count": 7,
   "metadata": {
    "collapsed": true
   },
   "outputs": [],
   "source": [
    "params = args"
   ]
  },
  {
   "cell_type": "code",
   "execution_count": 8,
   "metadata": {
    "collapsed": true
   },
   "outputs": [],
   "source": [
    "C, H, W = 3, 224, 224\n",
    "model = pretrainedmodels.resnet152(pretrained='imagenet')\n",
    "load_image_fn = utils.LoadTransformImage(model)"
   ]
  },
  {
   "cell_type": "code",
   "execution_count": 9,
   "metadata": {
    "collapsed": true
   },
   "outputs": [],
   "source": [
    "model.last_linear = utils.Identity()\n",
    "model = nn.DataParallel(model)\n",
    "model = model.cuda()"
   ]
  },
  {
   "cell_type": "code",
   "execution_count": 10,
   "metadata": {
    "collapsed": true
   },
   "outputs": [],
   "source": [
    "model.eval();"
   ]
  },
  {
   "cell_type": "code",
   "execution_count": 11,
   "metadata": {
    "collapsed": true
   },
   "outputs": [],
   "source": [
    "dir_fc = params['output_dir']"
   ]
  },
  {
   "cell_type": "code",
   "execution_count": 12,
   "metadata": {},
   "outputs": [
    {
     "name": "stdout",
     "output_type": "stream",
     "text": [
      "save video feats to data/feats/demo\n"
     ]
    }
   ],
   "source": [
    "if not os.path.isdir(dir_fc):\n",
    "    os.mkdir(dir_fc)\n",
    "print(\"save video feats to %s\" % (dir_fc))"
   ]
  },
  {
   "cell_type": "code",
   "execution_count": 13,
   "metadata": {
    "collapsed": true
   },
   "outputs": [],
   "source": [
    "video_list = glob.glob(os.path.join(params['video_path'], '*.mp4'))"
   ]
  },
  {
   "cell_type": "code",
   "execution_count": 14,
   "metadata": {
    "collapsed": true
   },
   "outputs": [],
   "source": [
    "video = 'data/sample-video/video1211.mp4'"
   ]
  },
  {
   "cell_type": "code",
   "execution_count": 15,
   "metadata": {
    "collapsed": true
   },
   "outputs": [],
   "source": [
    "video_id = video.split(\"/\")[-1].split(\".\")[0]"
   ]
  },
  {
   "cell_type": "code",
   "execution_count": 16,
   "metadata": {
    "collapsed": true
   },
   "outputs": [],
   "source": [
    "dst = params['model'] + '_' + video_id"
   ]
  },
  {
   "cell_type": "code",
   "execution_count": 17,
   "metadata": {},
   "outputs": [
    {
     "data": {
      "text/plain": [
       "'resnet152_video1211'"
      ]
     },
     "execution_count": 17,
     "metadata": {},
     "output_type": "execute_result"
    }
   ],
   "source": [
    "dst"
   ]
  },
  {
   "cell_type": "code",
   "execution_count": 18,
   "metadata": {},
   "outputs": [
    {
     "name": "stdout",
     "output_type": "stream",
     "text": [
      " cleanup: resnet152_video1211/\n"
     ]
    }
   ],
   "source": [
    "with open(os.devnull, \"w\") as ffmpeg_log:\n",
    "    if os.path.exists(dst):\n",
    "        print(\" cleanup: \" + dst + \"/\")\n",
    "        shutil.rmtree(dst)\n",
    "    os.makedirs(dst)\n",
    "    video_to_frames_command = [\"ffmpeg\",\n",
    "                               # (optional) overwrite output file if it exists\n",
    "                               '-y',\n",
    "                               '-i', video,  # input file\n",
    "                               '-vf', \"scale=400:300\",  # input file\n",
    "                               '-qscale:v', \"2\",  # quality for JPEG\n",
    "                               '{0}/%06d.jpg'.format(dst)]\n",
    "    subprocess.call(video_to_frames_command,\n",
    "                    stdout=ffmpeg_log, stderr=ffmpeg_log)"
   ]
  },
  {
   "cell_type": "code",
   "execution_count": 19,
   "metadata": {
    "collapsed": true
   },
   "outputs": [],
   "source": [
    "image_list = sorted(glob.glob(os.path.join(dst, '*.jpg')))\n",
    "samples = np.round(np.linspace(\n",
    "            0, len(image_list) - 1, params['n_frame_steps']))\n",
    "image_list = [image_list[int(sample)] for sample in samples]"
   ]
  },
  {
   "cell_type": "code",
   "execution_count": 20,
   "metadata": {
    "collapsed": true
   },
   "outputs": [],
   "source": [
    "images = torch.zeros((len(image_list), C, H, W))\n",
    "for iImg in range(len(image_list)):\n",
    "    img = load_image_fn(image_list[iImg])\n",
    "    images[iImg] = img"
   ]
  },
  {
   "cell_type": "code",
   "execution_count": 21,
   "metadata": {},
   "outputs": [],
   "source": [
    "with torch.no_grad():\n",
    "    fc_feats = model(images.cuda()).squeeze()"
   ]
  },
  {
   "cell_type": "code",
   "execution_count": 22,
   "metadata": {
    "collapsed": true
   },
   "outputs": [],
   "source": [
    " img_feats = fc_feats.cpu().numpy()\n",
    "# Save the inception features\n",
    "outfile = os.path.join(dir_fc, video_id + '.npy')\n",
    "np.save(outfile, img_feats)\n",
    "# cleanup\n",
    "shutil.rmtree(dst)"
   ]
  },
  {
   "cell_type": "code",
   "execution_count": null,
   "metadata": {
    "collapsed": true
   },
   "outputs": [],
   "source": []
  }
 ],
 "metadata": {
  "kernelspec": {
   "display_name": "Python 3",
   "language": "python",
   "name": "python3"
  },
  "language_info": {
   "codemirror_mode": {
    "name": "ipython",
    "version": 3
   },
   "file_extension": ".py",
   "mimetype": "text/x-python",
   "name": "python",
   "nbconvert_exporter": "python",
   "pygments_lexer": "ipython3",
   "version": "3.6.9"
  }
 },
 "nbformat": 4,
 "nbformat_minor": 2
}
