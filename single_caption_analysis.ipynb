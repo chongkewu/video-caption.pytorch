{
 "cells": [
  {
   "cell_type": "code",
   "execution_count": 31,
   "metadata": {
    "collapsed": true
   },
   "outputs": [],
   "source": [
    "import json\n",
    "import os\n",
    "import argparse\n",
    "import torch\n",
    "from torch import nn\n",
    "from torch.autograd import Variable\n",
    "from torch.utils.data import DataLoader\n",
    "from models import EncoderRNN, DecoderRNN, S2VTAttModel, S2VTModel\n",
    "from dataloader import VideoDataset\n",
    "import misc.utils as utils\n",
    "from misc.cocoeval import suppress_stdout_stderr, COCOScorer\n",
    "\n",
    "from pandas.io.json import json_normalize\n",
    "import pandas as pd"
   ]
  },
  {
   "cell_type": "code",
   "execution_count": 32,
   "metadata": {
    "collapsed": true
   },
   "outputs": [],
   "source": [
    "args = {'recover_opt': 'data/save/opt_info.json', 'saved_model': 'data/save/model_50.pth', 'dump_json': 1, 'results_path': 'results/', 'dump_path': 0, 'gpu': '0', 'batch_size': 25, 'sample_max': 1, 'temperature': 1.0, 'beam_size': 1}\n"
   ]
  },
  {
   "cell_type": "code",
   "execution_count": 33,
   "metadata": {
    "collapsed": true
   },
   "outputs": [],
   "source": [
    "opt = json.load(open(args[\"recover_opt\"]))\n",
    "for k, v in args.items():\n",
    "        opt[k] = v\n",
    "os.environ['CUDA_VISIBLE_DEVICES'] = opt[\"gpu\"]"
   ]
  },
  {
   "cell_type": "code",
   "execution_count": 34,
   "metadata": {},
   "outputs": [
    {
     "name": "stdout",
     "output_type": "stream",
     "text": [
      "vocab size is  16860\n",
      "number of train videos:  6501\n",
      "number of val videos:  500\n",
      "number of test videos:  2999\n",
      "load feats from ['data/feats/resnet152']\n",
      "max sequence length in data is 28\n"
     ]
    }
   ],
   "source": [
    "dataset = VideoDataset(opt, \"test\")"
   ]
  },
  {
   "cell_type": "code",
   "execution_count": 35,
   "metadata": {
    "collapsed": true
   },
   "outputs": [],
   "source": [
    "opt[\"vocab_size\"] = dataset.get_vocab_size()"
   ]
  },
  {
   "cell_type": "code",
   "execution_count": 36,
   "metadata": {
    "collapsed": true
   },
   "outputs": [],
   "source": [
    "opt[\"seq_length\"] = dataset.max_len"
   ]
  },
  {
   "cell_type": "code",
   "execution_count": 37,
   "metadata": {},
   "outputs": [
    {
     "data": {
      "text/plain": [
       "'S2VTAttModel'"
      ]
     },
     "execution_count": 37,
     "metadata": {},
     "output_type": "execute_result"
    }
   ],
   "source": [
    "opt[\"model\"]"
   ]
  },
  {
   "cell_type": "code",
   "execution_count": 38,
   "metadata": {},
   "outputs": [
    {
     "name": "stderr",
     "output_type": "stream",
     "text": [
      "/home/chongke/anaconda3/lib/python3.6/site-packages/torch/nn/modules/rnn.py:51: UserWarning: dropout option adds dropout after all but last recurrent layer, so non-zero dropout expects num_layers greater than 1, but got dropout=0.5 and num_layers=1\n",
      "  \"num_layers={}\".format(dropout, num_layers))\n"
     ]
    }
   ],
   "source": [
    "encoder = EncoderRNN(opt[\"dim_vid\"], opt[\"dim_hidden\"], bidirectional=opt[\"bidirectional\"],\n",
    "                             input_dropout_p=opt[\"input_dropout_p\"], rnn_dropout_p=opt[\"rnn_dropout_p\"]);\n",
    "decoder = DecoderRNN(opt[\"vocab_size\"], opt[\"max_len\"], opt[\"dim_hidden\"], opt[\"dim_word\"],\n",
    "                             input_dropout_p=opt[\"input_dropout_p\"],\n",
    "                             rnn_dropout_p=opt[\"rnn_dropout_p\"], bidirectional=opt[\"bidirectional\"]);\n",
    "model = S2VTAttModel(encoder, decoder).cuda()"
   ]
  },
  {
   "cell_type": "code",
   "execution_count": 39,
   "metadata": {},
   "outputs": [
    {
     "data": {
      "text/plain": [
       "<All keys matched successfully>"
      ]
     },
     "execution_count": 39,
     "metadata": {},
     "output_type": "execute_result"
    }
   ],
   "source": [
    "model.load_state_dict(torch.load(opt[\"saved_model\"]))"
   ]
  },
  {
   "cell_type": "code",
   "execution_count": 40,
   "metadata": {},
   "outputs": [
    {
     "name": "stderr",
     "output_type": "stream",
     "text": [
      "/home/chongke/anaconda3/lib/python3.6/site-packages/torch/nn/_reduction.py:43: UserWarning: size_average and reduce args will be deprecated, please use reduction='none' instead.\n",
      "  warnings.warn(warning.format(ret))\n"
     ]
    }
   ],
   "source": [
    "crit = utils.LanguageModelCriterion()"
   ]
  },
  {
   "cell_type": "code",
   "execution_count": 41,
   "metadata": {
    "collapsed": true
   },
   "outputs": [],
   "source": [
    "model.encoder.rnn.bidirectional = bool(model.encoder.rnn.bidirectional)"
   ]
  },
  {
   "cell_type": "code",
   "execution_count": 42,
   "metadata": {
    "collapsed": true
   },
   "outputs": [],
   "source": [
    "vocab = dataset.get_vocab()"
   ]
  },
  {
   "cell_type": "code",
   "execution_count": 43,
   "metadata": {},
   "outputs": [
    {
     "data": {
      "text/plain": [
       "S2VTAttModel(\n",
       "  (encoder): EncoderRNN(\n",
       "    (vid2hid): Linear(in_features=2048, out_features=512, bias=True)\n",
       "    (input_dropout): Dropout(p=0.2, inplace=False)\n",
       "    (rnn): GRU(512, 512, batch_first=True, dropout=0.5)\n",
       "  )\n",
       "  (decoder): DecoderRNN(\n",
       "    (input_dropout): Dropout(p=0.2, inplace=False)\n",
       "    (embedding): Embedding(16860, 512)\n",
       "    (attention): Attention(\n",
       "      (linear1): Linear(in_features=1024, out_features=512, bias=True)\n",
       "      (linear2): Linear(in_features=512, out_features=1, bias=False)\n",
       "    )\n",
       "    (rnn): GRU(1024, 512, batch_first=True, dropout=0.5)\n",
       "    (out): Linear(in_features=512, out_features=16860, bias=True)\n",
       "  )\n",
       ")"
      ]
     },
     "execution_count": 43,
     "metadata": {},
     "output_type": "execute_result"
    }
   ],
   "source": [
    "model.eval()"
   ]
  },
  {
   "cell_type": "code",
   "execution_count": 44,
   "metadata": {
    "collapsed": true
   },
   "outputs": [],
   "source": [
    "loader = DataLoader(dataset, batch_size=opt[\"batch_size\"], shuffle=True)"
   ]
  },
  {
   "cell_type": "code",
   "execution_count": 45,
   "metadata": {},
   "outputs": [
    {
     "name": "stdout",
     "output_type": "stream",
     "text": [
      "init COCO-EVAL scorer\n"
     ]
    }
   ],
   "source": [
    "scorer = COCOScorer()"
   ]
  },
  {
   "cell_type": "code",
   "execution_count": 46,
   "metadata": {
    "collapsed": true
   },
   "outputs": [],
   "source": [
    "gt_dataframe = json_normalize(\n",
    "        json.load(open(opt[\"input_json\"]))['sentences'])"
   ]
  },
  {
   "cell_type": "code",
   "execution_count": 47,
   "metadata": {
    "collapsed": true
   },
   "outputs": [],
   "source": [
    "def convert_data_to_coco_scorer_format(data_frame):\n",
    "    gts = {}\n",
    "    for row in zip(data_frame[\"caption\"], data_frame[\"video_id\"]):\n",
    "        if row[1] in gts:\n",
    "            gts[row[1]].append(\n",
    "                {'image_id': row[1], 'cap_id': len(gts[row[1]]), 'caption': row[0]})\n",
    "        else:\n",
    "            gts[row[1]] = []\n",
    "            gts[row[1]].append(\n",
    "                {'image_id': row[1], 'cap_id': len(gts[row[1]]), 'caption': row[0]})\n",
    "    return gts"
   ]
  },
  {
   "cell_type": "code",
   "execution_count": 48,
   "metadata": {
    "collapsed": true
   },
   "outputs": [],
   "source": [
    "gts = convert_data_to_coco_scorer_format(gt_dataframe)"
   ]
  },
  {
   "cell_type": "code",
   "execution_count": 49,
   "metadata": {
    "collapsed": true
   },
   "outputs": [],
   "source": [
    "data = next(iter(loader))"
   ]
  },
  {
   "cell_type": "code",
   "execution_count": 50,
   "metadata": {},
   "outputs": [
    {
     "data": {
      "text/plain": [
       "torch.Size([25, 28])"
      ]
     },
     "execution_count": 50,
     "metadata": {},
     "output_type": "execute_result"
    }
   ],
   "source": [
    "data['labels'].shape"
   ]
  },
  {
   "cell_type": "code",
   "execution_count": 51,
   "metadata": {
    "collapsed": true
   },
   "outputs": [],
   "source": [
    "sents_label = [' '.join([e for e in [vocab.get(str(key.data.tolist())) for key in data['labels'][ind]] if e not in ('<eos>', '<sos>')]) for ind in range(25)] "
   ]
  },
  {
   "cell_type": "code",
   "execution_count": 52,
   "metadata": {
    "collapsed": true
   },
   "outputs": [],
   "source": [
    "# forward the model to get loss\n",
    "fc_feats = data['fc_feats'].cuda()\n",
    "labels = data['labels'].cuda()\n",
    "masks = data['masks'].cuda()\n",
    "video_ids = data['video_ids']"
   ]
  },
  {
   "cell_type": "code",
   "execution_count": 53,
   "metadata": {},
   "outputs": [
    {
     "name": "stderr",
     "output_type": "stream",
     "text": [
      "/home/chongke/anaconda3/lib/python3.6/site-packages/torch/nn/functional.py:1339: UserWarning: nn.functional.tanh is deprecated. Use torch.tanh instead.\n",
      "  warnings.warn(\"nn.functional.tanh is deprecated. Use torch.tanh instead.\")\n"
     ]
    }
   ],
   "source": [
    "# forward the model to also get generated samples for each image\n",
    "with torch.no_grad():\n",
    "    seq_probs, seq_preds = model(\n",
    "        fc_feats, mode='inference', opt=opt)"
   ]
  },
  {
   "cell_type": "code",
   "execution_count": 54,
   "metadata": {
    "collapsed": true
   },
   "outputs": [],
   "source": [
    "sents = utils.decode_sequence(vocab, seq_preds)"
   ]
  },
  {
   "cell_type": "code",
   "execution_count": 69,
   "metadata": {
    "collapsed": true
   },
   "outputs": [],
   "source": [
    "sample_result = [video_ids, sents, sents_label]"
   ]
  },
  {
   "cell_type": "code",
   "execution_count": 77,
   "metadata": {
    "collapsed": true
   },
   "outputs": [],
   "source": [
    "pd.options.display.max_colwidth = 150\n",
    "df_result = pd.DataFrame(sample_result).T"
   ]
  },
  {
   "cell_type": "code",
   "execution_count": 78,
   "metadata": {
    "collapsed": true
   },
   "outputs": [],
   "source": [
    "df_result.columns = ['id', 'inference', 'label']"
   ]
  },
  {
   "cell_type": "code",
   "execution_count": 79,
   "metadata": {},
   "outputs": [
    {
     "data": {
      "text/html": [
       "<div>\n",
       "<style>\n",
       "    .dataframe thead tr:only-child th {\n",
       "        text-align: right;\n",
       "    }\n",
       "\n",
       "    .dataframe thead th {\n",
       "        text-align: left;\n",
       "    }\n",
       "\n",
       "    .dataframe tbody tr th {\n",
       "        vertical-align: top;\n",
       "    }\n",
       "</style>\n",
       "<table border=\"1\" class=\"dataframe\">\n",
       "  <thead>\n",
       "    <tr style=\"text-align: right;\">\n",
       "      <th></th>\n",
       "      <th>id</th>\n",
       "      <th>inference</th>\n",
       "      <th>label</th>\n",
       "    </tr>\n",
       "  </thead>\n",
       "  <tbody>\n",
       "    <tr>\n",
       "      <th>0</th>\n",
       "      <td>video7869</td>\n",
       "      <td>a man is showing how to use a rubicks cube</td>\n",
       "      <td>french man is adjusting a phone situated on a selfie stick</td>\n",
       "    </tr>\n",
       "    <tr>\n",
       "      <th>1</th>\n",
       "      <td>video7342</td>\n",
       "      <td>a hamster is playing with a hamster</td>\n",
       "      <td>the black mice is trying to exit from his cage</td>\n",
       "    </tr>\n",
       "    <tr>\n",
       "      <th>2</th>\n",
       "      <td>video8797</td>\n",
       "      <td>a man is playing a video game</td>\n",
       "      <td>a person shoots an arrow in a video game</td>\n",
       "    </tr>\n",
       "    <tr>\n",
       "      <th>3</th>\n",
       "      <td>video7709</td>\n",
       "      <td>a man is cutting a piece of food</td>\n",
       "      <td>a men is cooking food he is adding some ingredients in untensil which is kept on fire</td>\n",
       "    </tr>\n",
       "    <tr>\n",
       "      <th>4</th>\n",
       "      <td>video9905</td>\n",
       "      <td>a minecraft character is running</td>\n",
       "      <td>a minecraft demonstration video</td>\n",
       "    </tr>\n",
       "    <tr>\n",
       "      <th>5</th>\n",
       "      <td>video9903</td>\n",
       "      <td>a man is playing a video game</td>\n",
       "      <td>the cat jump on the dining table and spill all the food items</td>\n",
       "    </tr>\n",
       "    <tr>\n",
       "      <th>6</th>\n",
       "      <td>video8143</td>\n",
       "      <td>a man is playing a game</td>\n",
       "      <td>a girl is performing a gymnastics routine</td>\n",
       "    </tr>\n",
       "    <tr>\n",
       "      <th>7</th>\n",
       "      <td>video7505</td>\n",
       "      <td>a man is swimming in the water</td>\n",
       "      <td>a surfer describing what was dragging him under water</td>\n",
       "    </tr>\n",
       "    <tr>\n",
       "      <th>8</th>\n",
       "      <td>video8552</td>\n",
       "      <td>a man is talking about a woman s face</td>\n",
       "      <td>a man pouring bottles of water on himself</td>\n",
       "    </tr>\n",
       "    <tr>\n",
       "      <th>9</th>\n",
       "      <td>video7416</td>\n",
       "      <td>a man is playing a video game</td>\n",
       "      <td>a game of soccer</td>\n",
       "    </tr>\n",
       "    <tr>\n",
       "      <th>10</th>\n",
       "      <td>video9187</td>\n",
       "      <td>a woman is talking about the movie</td>\n",
       "      <td>a woman talks about the movie the avengers</td>\n",
       "    </tr>\n",
       "    <tr>\n",
       "      <th>11</th>\n",
       "      <td>video8809</td>\n",
       "      <td>a man is talking about a food</td>\n",
       "      <td>a man in a red and blue plaid shirt holds a plastic pitcher full of tortilla soup and discusses adding tortillas to it</td>\n",
       "    </tr>\n",
       "    <tr>\n",
       "      <th>12</th>\n",
       "      <td>video9352</td>\n",
       "      <td>a woman is talking about a movie</td>\n",
       "      <td>a woman is laughing</td>\n",
       "    </tr>\n",
       "    <tr>\n",
       "      <th>13</th>\n",
       "      <td>video8910</td>\n",
       "      <td>a person is making a dish</td>\n",
       "      <td>adding ingredients to a pizza</td>\n",
       "    </tr>\n",
       "    <tr>\n",
       "      <th>14</th>\n",
       "      <td>video7059</td>\n",
       "      <td>a man is dancing in a room</td>\n",
       "      <td>two womens are teaching a parrot to talk and dance</td>\n",
       "    </tr>\n",
       "    <tr>\n",
       "      <th>15</th>\n",
       "      <td>video7374</td>\n",
       "      <td>a man is playing a video game</td>\n",
       "      <td>characters are running through a field in a football themed video game</td>\n",
       "    </tr>\n",
       "    <tr>\n",
       "      <th>16</th>\n",
       "      <td>video7171</td>\n",
       "      <td>a woman is talking to a man</td>\n",
       "      <td>cute girl interview taken by the reporters</td>\n",
       "    </tr>\n",
       "    <tr>\n",
       "      <th>17</th>\n",
       "      <td>video9955</td>\n",
       "      <td>a man is describing a video of a car</td>\n",
       "      <td>a person flying a paper airplane</td>\n",
       "    </tr>\n",
       "    <tr>\n",
       "      <th>18</th>\n",
       "      <td>video9655</td>\n",
       "      <td>a school bus is driving down the road</td>\n",
       "      <td>school kids and teachers are coming out of school buses</td>\n",
       "    </tr>\n",
       "    <tr>\n",
       "      <th>19</th>\n",
       "      <td>video8927</td>\n",
       "      <td>a woman is talking about the news</td>\n",
       "      <td>a man is reporting the news</td>\n",
       "    </tr>\n",
       "    <tr>\n",
       "      <th>20</th>\n",
       "      <td>video7977</td>\n",
       "      <td>a person is drawing a picture of a paper</td>\n",
       "      <td>a cartoonist draws characters and flips between pages</td>\n",
       "    </tr>\n",
       "    <tr>\n",
       "      <th>21</th>\n",
       "      <td>video7154</td>\n",
       "      <td>a man is describing how to use a &lt;UNK&gt;</td>\n",
       "      <td>women putting a dish in oven and showing how it is getting cooked</td>\n",
       "    </tr>\n",
       "    <tr>\n",
       "      <th>22</th>\n",
       "      <td>video9797</td>\n",
       "      <td>a football player celebrates</td>\n",
       "      <td>sportsman are on the play ground</td>\n",
       "    </tr>\n",
       "    <tr>\n",
       "      <th>23</th>\n",
       "      <td>video7465</td>\n",
       "      <td>a man is singing</td>\n",
       "      <td>footage from some people on a trip</td>\n",
       "    </tr>\n",
       "    <tr>\n",
       "      <th>24</th>\n",
       "      <td>video7336</td>\n",
       "      <td>a man is talking about a science</td>\n",
       "      <td>a man is &lt;UNK&gt; in the board and a words are displaying</td>\n",
       "    </tr>\n",
       "  </tbody>\n",
       "</table>\n",
       "</div>"
      ],
      "text/plain": [
       "           id                                   inference  \\\n",
       "0   video7869  a man is showing how to use a rubicks cube   \n",
       "1   video7342         a hamster is playing with a hamster   \n",
       "2   video8797               a man is playing a video game   \n",
       "3   video7709            a man is cutting a piece of food   \n",
       "4   video9905            a minecraft character is running   \n",
       "5   video9903               a man is playing a video game   \n",
       "6   video8143                     a man is playing a game   \n",
       "7   video7505              a man is swimming in the water   \n",
       "8   video8552       a man is talking about a woman s face   \n",
       "9   video7416               a man is playing a video game   \n",
       "10  video9187          a woman is talking about the movie   \n",
       "11  video8809               a man is talking about a food   \n",
       "12  video9352            a woman is talking about a movie   \n",
       "13  video8910                   a person is making a dish   \n",
       "14  video7059                  a man is dancing in a room   \n",
       "15  video7374               a man is playing a video game   \n",
       "16  video7171                 a woman is talking to a man   \n",
       "17  video9955        a man is describing a video of a car   \n",
       "18  video9655       a school bus is driving down the road   \n",
       "19  video8927           a woman is talking about the news   \n",
       "20  video7977    a person is drawing a picture of a paper   \n",
       "21  video7154      a man is describing how to use a <UNK>   \n",
       "22  video9797                a football player celebrates   \n",
       "23  video7465                            a man is singing   \n",
       "24  video7336            a man is talking about a science   \n",
       "\n",
       "                                                                                                                     label  \n",
       "0                                                               french man is adjusting a phone situated on a selfie stick  \n",
       "1                                                                           the black mice is trying to exit from his cage  \n",
       "2                                                                                 a person shoots an arrow in a video game  \n",
       "3                                    a men is cooking food he is adding some ingredients in untensil which is kept on fire  \n",
       "4                                                                                          a minecraft demonstration video  \n",
       "5                                                            the cat jump on the dining table and spill all the food items  \n",
       "6                                                                                a girl is performing a gymnastics routine  \n",
       "7                                                                    a surfer describing what was dragging him under water  \n",
       "8                                                                                a man pouring bottles of water on himself  \n",
       "9                                                                                                         a game of soccer  \n",
       "10                                                                              a woman talks about the movie the avengers  \n",
       "11  a man in a red and blue plaid shirt holds a plastic pitcher full of tortilla soup and discusses adding tortillas to it  \n",
       "12                                                                                                     a woman is laughing  \n",
       "13                                                                                           adding ingredients to a pizza  \n",
       "14                                                                      two womens are teaching a parrot to talk and dance  \n",
       "15                                                  characters are running through a field in a football themed video game  \n",
       "16                                                                              cute girl interview taken by the reporters  \n",
       "17                                                                                        a person flying a paper airplane  \n",
       "18                                                                 school kids and teachers are coming out of school buses  \n",
       "19                                                                                             a man is reporting the news  \n",
       "20                                                                   a cartoonist draws characters and flips between pages  \n",
       "21                                                       women putting a dish in oven and showing how it is getting cooked  \n",
       "22                                                                                        sportsman are on the play ground  \n",
       "23                                                                                      footage from some people on a trip  \n",
       "24                                                                  a man is <UNK> in the board and a words are displaying  "
      ]
     },
     "execution_count": 79,
     "metadata": {},
     "output_type": "execute_result"
    }
   ],
   "source": [
    "\n",
    "df_result"
   ]
  },
  {
   "cell_type": "code",
   "execution_count": 235,
   "metadata": {},
   "outputs": [
    {
     "data": {
      "text/html": [
       "<div>\n",
       "<style>\n",
       "    .dataframe thead tr:only-child th {\n",
       "        text-align: right;\n",
       "    }\n",
       "\n",
       "    .dataframe thead th {\n",
       "        text-align: left;\n",
       "    }\n",
       "\n",
       "    .dataframe tbody tr th {\n",
       "        vertical-align: top;\n",
       "    }\n",
       "</style>\n",
       "<table border=\"1\" class=\"dataframe\">\n",
       "  <thead>\n",
       "    <tr style=\"text-align: right;\">\n",
       "      <th></th>\n",
       "      <th>caption</th>\n",
       "      <th>sen_id</th>\n",
       "      <th>video_id</th>\n",
       "    </tr>\n",
       "  </thead>\n",
       "  <tbody>\n",
       "    <tr>\n",
       "      <th>153760</th>\n",
       "      <td>special effects make it look like a man s face...</td>\n",
       "      <td>153760</td>\n",
       "      <td>video7764</td>\n",
       "    </tr>\n",
       "    <tr>\n",
       "      <th>153761</th>\n",
       "      <td>there is a man standing with firing body</td>\n",
       "      <td>153761</td>\n",
       "      <td>video7764</td>\n",
       "    </tr>\n",
       "    <tr>\n",
       "      <th>153762</th>\n",
       "      <td>a man is starring on the screen</td>\n",
       "      <td>153762</td>\n",
       "      <td>video7764</td>\n",
       "    </tr>\n",
       "    <tr>\n",
       "      <th>153763</th>\n",
       "      <td>opening credits play to the television show tr...</td>\n",
       "      <td>153763</td>\n",
       "      <td>video7764</td>\n",
       "    </tr>\n",
       "    <tr>\n",
       "      <th>153764</th>\n",
       "      <td>black backgrounds with images of men s faces h...</td>\n",
       "      <td>153764</td>\n",
       "      <td>video7764</td>\n",
       "    </tr>\n",
       "    <tr>\n",
       "      <th>153765</th>\n",
       "      <td>a man s face with a worried look is consumed b...</td>\n",
       "      <td>153765</td>\n",
       "      <td>video7764</td>\n",
       "    </tr>\n",
       "    <tr>\n",
       "      <th>153766</th>\n",
       "      <td>a house with angled roofing is over a man s no...</td>\n",
       "      <td>153766</td>\n",
       "      <td>video7764</td>\n",
       "    </tr>\n",
       "    <tr>\n",
       "      <th>153767</th>\n",
       "      <td>a person is standing still and some fire are b...</td>\n",
       "      <td>153767</td>\n",
       "      <td>video7764</td>\n",
       "    </tr>\n",
       "    <tr>\n",
       "      <th>153768</th>\n",
       "      <td>the introduction video for a tv show is played</td>\n",
       "      <td>153768</td>\n",
       "      <td>video7764</td>\n",
       "    </tr>\n",
       "    <tr>\n",
       "      <th>153769</th>\n",
       "      <td>a mans face with fire across it and another ma...</td>\n",
       "      <td>153769</td>\n",
       "      <td>video7764</td>\n",
       "    </tr>\n",
       "    <tr>\n",
       "      <th>153770</th>\n",
       "      <td>the opening theme to true detective plays over...</td>\n",
       "      <td>153770</td>\n",
       "      <td>video7764</td>\n",
       "    </tr>\n",
       "    <tr>\n",
       "      <th>153771</th>\n",
       "      <td>a man and a house and a fire and a fireman and...</td>\n",
       "      <td>153771</td>\n",
       "      <td>video7764</td>\n",
       "    </tr>\n",
       "    <tr>\n",
       "      <th>153772</th>\n",
       "      <td>a video clip of a show called true detective</td>\n",
       "      <td>153772</td>\n",
       "      <td>video7764</td>\n",
       "    </tr>\n",
       "    <tr>\n",
       "      <th>153773</th>\n",
       "      <td>a man with fire going around his face</td>\n",
       "      <td>153773</td>\n",
       "      <td>video7764</td>\n",
       "    </tr>\n",
       "    <tr>\n",
       "      <th>153774</th>\n",
       "      <td>the intro to true detective  a man looks at th...</td>\n",
       "      <td>153774</td>\n",
       "      <td>video7764</td>\n",
       "    </tr>\n",
       "    <tr>\n",
       "      <th>153775</th>\n",
       "      <td>presentation of the characters in the new film</td>\n",
       "      <td>153775</td>\n",
       "      <td>video7764</td>\n",
       "    </tr>\n",
       "    <tr>\n",
       "      <th>153776</th>\n",
       "      <td>true detective is crime drama television serie...</td>\n",
       "      <td>153776</td>\n",
       "      <td>video7764</td>\n",
       "    </tr>\n",
       "    <tr>\n",
       "      <th>153777</th>\n",
       "      <td>various faces of different men show up in blac...</td>\n",
       "      <td>153777</td>\n",
       "      <td>video7764</td>\n",
       "    </tr>\n",
       "    <tr>\n",
       "      <th>153778</th>\n",
       "      <td>music is being played over credits for a telev...</td>\n",
       "      <td>153778</td>\n",
       "      <td>video7764</td>\n",
       "    </tr>\n",
       "    <tr>\n",
       "      <th>153779</th>\n",
       "      <td>some text for a tv show is on a screen</td>\n",
       "      <td>153779</td>\n",
       "      <td>video7764</td>\n",
       "    </tr>\n",
       "  </tbody>\n",
       "</table>\n",
       "</div>"
      ],
      "text/plain": [
       "                                                  caption  sen_id   video_id\n",
       "153760  special effects make it look like a man s face...  153760  video7764\n",
       "153761           there is a man standing with firing body  153761  video7764\n",
       "153762                    a man is starring on the screen  153762  video7764\n",
       "153763  opening credits play to the television show tr...  153763  video7764\n",
       "153764  black backgrounds with images of men s faces h...  153764  video7764\n",
       "153765  a man s face with a worried look is consumed b...  153765  video7764\n",
       "153766  a house with angled roofing is over a man s no...  153766  video7764\n",
       "153767  a person is standing still and some fire are b...  153767  video7764\n",
       "153768     the introduction video for a tv show is played  153768  video7764\n",
       "153769  a mans face with fire across it and another ma...  153769  video7764\n",
       "153770  the opening theme to true detective plays over...  153770  video7764\n",
       "153771  a man and a house and a fire and a fireman and...  153771  video7764\n",
       "153772       a video clip of a show called true detective  153772  video7764\n",
       "153773              a man with fire going around his face  153773  video7764\n",
       "153774  the intro to true detective  a man looks at th...  153774  video7764\n",
       "153775     presentation of the characters in the new film  153775  video7764\n",
       "153776  true detective is crime drama television serie...  153776  video7764\n",
       "153777  various faces of different men show up in blac...  153777  video7764\n",
       "153778  music is being played over credits for a telev...  153778  video7764\n",
       "153779             some text for a tv show is on a screen  153779  video7764"
      ]
     },
     "execution_count": 235,
     "metadata": {},
     "output_type": "execute_result"
    }
   ],
   "source": [
    "gt_dataframe.loc[gt_dataframe.index[gt_dataframe['video_id'] == 'video7764']]"
   ]
  },
  {
   "cell_type": "code",
   "execution_count": null,
   "metadata": {
    "collapsed": true
   },
   "outputs": [],
   "source": []
  },
  {
   "cell_type": "code",
   "execution_count": null,
   "metadata": {
    "collapsed": true
   },
   "outputs": [],
   "source": []
  },
  {
   "cell_type": "code",
   "execution_count": null,
   "metadata": {
    "collapsed": true
   },
   "outputs": [],
   "source": []
  }
 ],
 "metadata": {
  "kernelspec": {
   "display_name": "Python 3",
   "language": "python",
   "name": "python3"
  },
  "language_info": {
   "codemirror_mode": {
    "name": "ipython",
    "version": 3
   },
   "file_extension": ".py",
   "mimetype": "text/x-python",
   "name": "python",
   "nbconvert_exporter": "python",
   "pygments_lexer": "ipython3",
   "version": "3.6.3"
  }
 },
 "nbformat": 4,
 "nbformat_minor": 2
}
